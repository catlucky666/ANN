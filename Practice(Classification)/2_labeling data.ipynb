{
 "cells": [
  {
   "cell_type": "code",
   "execution_count": 1,
   "id": "806f0531",
   "metadata": {},
   "outputs": [
    {
     "name": "stdout",
     "output_type": "stream",
     "text": [
      "done\n"
     ]
    }
   ],
   "source": [
    "import pandas as pd\n",
    "\n",
    "# 讀取 Excel 檔案\n",
    "file_path = \"E:\\JupyterNotebooks\\ANN-Classification/data.csv\"\n",
    "df = pd.read_csv(file_path)\n",
    "\n",
    "# 添加標記列\n",
    "df['label_x'] = (df['y'] <= -df['x'] + 1).astype(int)  # 若條件滿足，標記為 (1,0)\n",
    "df['label_y'] = (df['y'] > -df['x'] + 1).astype(int)   # 若條件不滿足，標記為 (0,1)\n",
    "\n",
    "# 儲存標記後的數據\n",
    "file_path_labeled = \"E:\\JupyterNotebooks\\ANN-Classification/labeled_data.csv\"\n",
    "df.to_csv(file_path_labeled, index=False)\n",
    "\n",
    "print(\"done\")"
   ]
  },
  {
   "cell_type": "code",
   "execution_count": null,
   "id": "d695de51",
   "metadata": {},
   "outputs": [],
   "source": []
  }
 ],
 "metadata": {
  "kernelspec": {
   "display_name": "Python 3 (ipykernel)",
   "language": "python",
   "name": "python3"
  },
  "language_info": {
   "codemirror_mode": {
    "name": "ipython",
    "version": 3
   },
   "file_extension": ".py",
   "mimetype": "text/x-python",
   "name": "python",
   "nbconvert_exporter": "python",
   "pygments_lexer": "ipython3",
   "version": "3.9.17"
  }
 },
 "nbformat": 4,
 "nbformat_minor": 5
}
