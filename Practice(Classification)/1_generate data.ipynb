{
 "cells": [
  {
   "cell_type": "code",
   "execution_count": 1,
   "id": "d7a9967d",
   "metadata": {},
   "outputs": [
    {
     "name": "stdout",
     "output_type": "stream",
     "text": [
      "1000000\n",
      "CSV 已儲存至: E:\\JupyterNotebooks\\ANN-Classification\\data.csv\n",
      "done\n"
     ]
    }
   ],
   "source": [
    "import pandas as pd\n",
    "import random\n",
    "\n",
    "n = int(input())\n",
    "def random_data(n):\n",
    "    data = []\n",
    "    for _ in range(n):\n",
    "        x, y = random.uniform(0, 1), random.uniform(0, 1)\n",
    "        while x == y:\n",
    "            y = random.uniform(0, 1)\n",
    "        data.append((x, y))\n",
    "    return data\n",
    "# 產生數據\n",
    "data = random_data(n)\n",
    "# 轉換成 DataFrame\n",
    "df = pd.DataFrame(data, columns=['x', 'y'])\n",
    "# 設定儲存路徑\n",
    "csv_path = r"data.csv\"放上自己的路徑"\n",
    "# 儲存為 CSV\n",
    "df.to_csv(csv_path, index=False)\n",
    "print(f\"CSV 已儲存至: {csv_path}\")\n",
    "\n",
    "print(\"done\")"
   ]
  },
  {
   "cell_type": "code",
   "execution_count": null,
   "id": "1443e456",
   "metadata": {},
   "outputs": [],
   "source": []
  }
 ],
 "metadata": {
  "kernelspec": {
   "display_name": "Python 3 (ipykernel)",
   "language": "python",
   "name": "python3"
  },
  "language_info": {
   "codemirror_mode": {
    "name": "ipython",
    "version": 3
   },
   "file_extension": ".py",
   "mimetype": "text/x-python",
   "name": "python",
   "nbconvert_exporter": "python",
   "pygments_lexer": "ipython3",
   "version": "3.9.17"
  }
 },
 "nbformat": 4,
 "nbformat_minor": 5
}
